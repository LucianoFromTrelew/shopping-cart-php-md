{
 "cells": [
  {
   "cell_type": "code",
   "execution_count": 58,
   "metadata": {},
   "outputs": [],
   "source": [
    "from requests import get\n",
    "import random\n",
    "import decimal"
   ]
  },
  {
   "cell_type": "code",
   "execution_count": 228,
   "metadata": {},
   "outputs": [],
   "source": [
    "API = \"https://api.punkapi.com/v2/beers?page=4&per_page=50\"\n",
    "MAX_STOCK = 10"
   ]
  },
  {
   "cell_type": "code",
   "execution_count": 229,
   "metadata": {},
   "outputs": [],
   "source": [
    "beers = get(API).json()"
   ]
  },
  {
   "cell_type": "code",
   "execution_count": 230,
   "metadata": {},
   "outputs": [],
   "source": [
    "def get_random_decimal():\n",
    "    return decimal.Decimal(random.randrange(20000))/100\n",
    "def get_random_stock():\n",
    "    return random.choice(range(MAX_STOCK))\n",
    "def parse_description(description):\n",
    "    return description.replace(\"\\\"\", \"'\")\n",
    "def make_beer_insert_statement(beer):\n",
    "    return f\"INSERT INTO products VALUES ({b['id']}, \\\"{b['name']}\\\", {get_random_stock()}, {get_random_decimal()}, \\\"{parse_description(b['description'])}\\\", \\\"{b['image_url']}\\\");\""
   ]
  },
  {
   "cell_type": "code",
   "execution_count": 231,
   "metadata": {},
   "outputs": [],
   "source": [
    "with open(\"011_data_products.sql\", \"w\") as f:    \n",
    "    for b in beers:\n",
    "        f.write(f\"{make_beer_insert_statement(b)}\\n\")"
   ]
  },
  {
   "cell_type": "code",
   "execution_count": 278,
   "metadata": {},
   "outputs": [],
   "source": [
    "from hashlib import sha256\n",
    "import unicodedata"
   ]
  },
  {
   "cell_type": "code",
   "execution_count": 279,
   "metadata": {},
   "outputs": [],
   "source": [
    "API = \"https://uinames.com/api/?amount=100&region=argentina\""
   ]
  },
  {
   "cell_type": "code",
   "execution_count": 280,
   "metadata": {},
   "outputs": [],
   "source": [
    "def strip_accents(text):\n",
    "    try:\n",
    "        text = unicode(text, 'utf-8')\n",
    "    except NameError: # unicode is a default on python 3 \n",
    "        pass\n",
    "\n",
    "    text = unicodedata.normalize('NFD', text)\\\n",
    "           .encode('ascii', 'ignore')\\\n",
    "           .decode(\"utf-8\")\n",
    "\n",
    "    return str(text)\n",
    "\n",
    "def parse_username(user):\n",
    "    username = (user['name']+user['surname']).lower().replace(\" \", \"\")\n",
    "    return strip_accents(username)\n",
    "\n",
    "def make_user_insert_statement(username):\n",
    "    password = sha256(username.encode()).hexdigest()\n",
    "    return f\"INSERT INTO users VALUES (\\\"{username}\\\", \\\"{password}\\\");\""
   ]
  },
  {
   "cell_type": "code",
   "execution_count": 281,
   "metadata": {},
   "outputs": [],
   "source": [
    "users = set([parse_username(user) for user in get(API).json()])"
   ]
  },
  {
   "cell_type": "code",
   "execution_count": 282,
   "metadata": {},
   "outputs": [],
   "source": [
    "with open(\"010_data_users.sql\", \"w\") as f:\n",
    "    for u in users:\n",
    "        f.write(f\"{make_user_insert_statement(u)}\\n\")"
   ]
  }
 ],
 "metadata": {
  "kernelspec": {
   "display_name": "Python 3",
   "language": "python",
   "name": "python3"
  },
  "language_info": {
   "codemirror_mode": {
    "name": "ipython",
    "version": 3
   },
   "file_extension": ".py",
   "mimetype": "text/x-python",
   "name": "python",
   "nbconvert_exporter": "python",
   "pygments_lexer": "ipython3",
   "version": "3.7.2"
  }
 },
 "nbformat": 4,
 "nbformat_minor": 2
}
